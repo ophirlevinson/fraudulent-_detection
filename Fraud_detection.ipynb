{
  "nbformat": 4,
  "nbformat_minor": 0,
  "metadata": {
    "colab": {
      "name": "Fraud_detection.ipynb",
      "version": "0.3.2",
      "provenance": [],
      "collapsed_sections": [
        "bmr7BiHbXrYD",
        "bHPay5Y1JHOt"
      ],
      "toc_visible": true,
      "include_colab_link": true
    },
    "kernelspec": {
      "name": "python3",
      "display_name": "Python 3"
    }
  },
  "cells": [
    {
      "cell_type": "markdown",
      "metadata": {
        "id": "view-in-github",
        "colab_type": "text"
      },
      "source": [
        "<a href=\"https://colab.research.google.com/github/ophirlevinson/fraudulent-_detection/blob/master/Fraud_detection.ipynb\" target=\"_parent\"><img src=\"https://colab.research.google.com/assets/colab-badge.svg\" alt=\"Open In Colab\"/></a>"
      ]
    },
    {
      "cell_type": "markdown",
      "metadata": {
        "id": "Dz4W51o4-aV4",
        "colab_type": "text"
      },
      "source": [
        "# Fraud Detection \n",
        "  1. Import data\n",
        "  2. Visualize \n",
        "  3. Pre-process\n",
        "  4. Create a logistic model\n",
        "  5. Check model and predit\n"
      ]
    },
    {
      "cell_type": "code",
      "metadata": {
        "id": "_idFvnKj-3MQ",
        "colab_type": "code",
        "colab": {}
      },
      "source": [
        "import numpy as np\n",
        "import sklearn as sk\n",
        "import pandas as pd\n",
        "import matplotlib.pyplot as plt\n",
        "from sklearn.preprocessing import scale\n",
        "import random\n",
        "import seaborn as sns"
      ],
      "execution_count": 0,
      "outputs": []
    },
    {
      "cell_type": "markdown",
      "metadata": {
        "id": "bmr7BiHbXrYD",
        "colab_type": "text"
      },
      "source": [
        "## Import data"
      ]
    },
    {
      "cell_type": "code",
      "metadata": {
        "id": "1cFdIotp-rqp",
        "colab_type": "code",
        "outputId": "7f30a725-79be-4d35-b4eb-a71cea0b4334",
        "colab": {
          "base_uri": "https://localhost:8080/",
          "height": 218
        }
      },
      "source": [
        "df = pd.read_csv('creditcard.csv', low_memory=False)\n",
        "df = df.sample(frac=1).reset_index(drop=True)\n",
        "df.head()"
      ],
      "execution_count": 98,
      "outputs": [
        {
          "output_type": "execute_result",
          "data": {
            "text/html": [
              "<div>\n",
              "<style scoped>\n",
              "    .dataframe tbody tr th:only-of-type {\n",
              "        vertical-align: middle;\n",
              "    }\n",
              "\n",
              "    .dataframe tbody tr th {\n",
              "        vertical-align: top;\n",
              "    }\n",
              "\n",
              "    .dataframe thead th {\n",
              "        text-align: right;\n",
              "    }\n",
              "</style>\n",
              "<table border=\"1\" class=\"dataframe\">\n",
              "  <thead>\n",
              "    <tr style=\"text-align: right;\">\n",
              "      <th></th>\n",
              "      <th>Time</th>\n",
              "      <th>V1</th>\n",
              "      <th>V2</th>\n",
              "      <th>V3</th>\n",
              "      <th>V4</th>\n",
              "      <th>V5</th>\n",
              "      <th>V6</th>\n",
              "      <th>V7</th>\n",
              "      <th>V8</th>\n",
              "      <th>V9</th>\n",
              "      <th>V10</th>\n",
              "      <th>V11</th>\n",
              "      <th>V12</th>\n",
              "      <th>V13</th>\n",
              "      <th>V14</th>\n",
              "      <th>V15</th>\n",
              "      <th>V16</th>\n",
              "      <th>V17</th>\n",
              "      <th>V18</th>\n",
              "      <th>V19</th>\n",
              "      <th>V20</th>\n",
              "      <th>V21</th>\n",
              "      <th>V22</th>\n",
              "      <th>V23</th>\n",
              "      <th>V24</th>\n",
              "      <th>V25</th>\n",
              "      <th>V26</th>\n",
              "      <th>V27</th>\n",
              "      <th>V28</th>\n",
              "      <th>Amount</th>\n",
              "      <th>Class</th>\n",
              "    </tr>\n",
              "  </thead>\n",
              "  <tbody>\n",
              "    <tr>\n",
              "      <th>0</th>\n",
              "      <td>56730.0</td>\n",
              "      <td>1.533514</td>\n",
              "      <td>-0.158796</td>\n",
              "      <td>-0.502469</td>\n",
              "      <td>-0.879370</td>\n",
              "      <td>-0.076440</td>\n",
              "      <td>-0.888371</td>\n",
              "      <td>0.039385</td>\n",
              "      <td>-0.438302</td>\n",
              "      <td>-1.321205</td>\n",
              "      <td>0.649438</td>\n",
              "      <td>-0.723597</td>\n",
              "      <td>-0.095219</td>\n",
              "      <td>1.766666</td>\n",
              "      <td>-0.237577</td>\n",
              "      <td>0.317994</td>\n",
              "      <td>0.899483</td>\n",
              "      <td>0.016156</td>\n",
              "      <td>-1.514114</td>\n",
              "      <td>0.945673</td>\n",
              "      <td>0.162893</td>\n",
              "      <td>0.144713</td>\n",
              "      <td>0.459075</td>\n",
              "      <td>-0.274575</td>\n",
              "      <td>-0.359639</td>\n",
              "      <td>0.960714</td>\n",
              "      <td>-0.037003</td>\n",
              "      <td>-0.017782</td>\n",
              "      <td>-0.005465</td>\n",
              "      <td>1.00</td>\n",
              "      <td>0</td>\n",
              "    </tr>\n",
              "    <tr>\n",
              "      <th>1</th>\n",
              "      <td>40862.0</td>\n",
              "      <td>-0.762229</td>\n",
              "      <td>1.006803</td>\n",
              "      <td>1.517650</td>\n",
              "      <td>-0.184517</td>\n",
              "      <td>-0.039635</td>\n",
              "      <td>-0.292945</td>\n",
              "      <td>0.402122</td>\n",
              "      <td>0.287660</td>\n",
              "      <td>-0.293311</td>\n",
              "      <td>0.163098</td>\n",
              "      <td>1.518887</td>\n",
              "      <td>0.158671</td>\n",
              "      <td>-1.322307</td>\n",
              "      <td>0.551101</td>\n",
              "      <td>0.534943</td>\n",
              "      <td>0.078783</td>\n",
              "      <td>-0.230399</td>\n",
              "      <td>-0.241164</td>\n",
              "      <td>-0.151696</td>\n",
              "      <td>0.111166</td>\n",
              "      <td>-0.181818</td>\n",
              "      <td>-0.453541</td>\n",
              "      <td>0.036160</td>\n",
              "      <td>0.169050</td>\n",
              "      <td>-0.315752</td>\n",
              "      <td>0.079896</td>\n",
              "      <td>0.381840</td>\n",
              "      <td>0.165352</td>\n",
              "      <td>1.29</td>\n",
              "      <td>0</td>\n",
              "    </tr>\n",
              "    <tr>\n",
              "      <th>2</th>\n",
              "      <td>138803.0</td>\n",
              "      <td>-0.765822</td>\n",
              "      <td>0.330092</td>\n",
              "      <td>-0.979615</td>\n",
              "      <td>-0.522699</td>\n",
              "      <td>-0.626116</td>\n",
              "      <td>1.817246</td>\n",
              "      <td>1.938749</td>\n",
              "      <td>-2.153257</td>\n",
              "      <td>0.326950</td>\n",
              "      <td>-0.402325</td>\n",
              "      <td>-0.159853</td>\n",
              "      <td>0.518916</td>\n",
              "      <td>0.102071</td>\n",
              "      <td>-0.042909</td>\n",
              "      <td>0.233590</td>\n",
              "      <td>-0.984311</td>\n",
              "      <td>0.492538</td>\n",
              "      <td>-2.344768</td>\n",
              "      <td>-1.280812</td>\n",
              "      <td>-1.175462</td>\n",
              "      <td>1.201200</td>\n",
              "      <td>-0.667887</td>\n",
              "      <td>-1.603821</td>\n",
              "      <td>-0.886016</td>\n",
              "      <td>-1.422754</td>\n",
              "      <td>0.192424</td>\n",
              "      <td>0.426222</td>\n",
              "      <td>-0.346974</td>\n",
              "      <td>627.95</td>\n",
              "      <td>0</td>\n",
              "    </tr>\n",
              "    <tr>\n",
              "      <th>3</th>\n",
              "      <td>39081.0</td>\n",
              "      <td>0.869820</td>\n",
              "      <td>-0.862217</td>\n",
              "      <td>0.770348</td>\n",
              "      <td>0.326967</td>\n",
              "      <td>-1.147097</td>\n",
              "      <td>-0.221127</td>\n",
              "      <td>-0.386228</td>\n",
              "      <td>-0.042937</td>\n",
              "      <td>0.815630</td>\n",
              "      <td>-0.371030</td>\n",
              "      <td>-0.784228</td>\n",
              "      <td>0.531027</td>\n",
              "      <td>0.857514</td>\n",
              "      <td>-0.450488</td>\n",
              "      <td>0.677958</td>\n",
              "      <td>0.466316</td>\n",
              "      <td>-0.414514</td>\n",
              "      <td>-0.035017</td>\n",
              "      <td>0.010530</td>\n",
              "      <td>0.391486</td>\n",
              "      <td>0.173985</td>\n",
              "      <td>0.244604</td>\n",
              "      <td>-0.252749</td>\n",
              "      <td>0.157084</td>\n",
              "      <td>0.209962</td>\n",
              "      <td>1.107483</td>\n",
              "      <td>-0.069121</td>\n",
              "      <td>0.047255</td>\n",
              "      <td>204.00</td>\n",
              "      <td>0</td>\n",
              "    </tr>\n",
              "    <tr>\n",
              "      <th>4</th>\n",
              "      <td>138358.0</td>\n",
              "      <td>0.175218</td>\n",
              "      <td>0.407749</td>\n",
              "      <td>-0.410562</td>\n",
              "      <td>-0.888346</td>\n",
              "      <td>1.059853</td>\n",
              "      <td>-1.657298</td>\n",
              "      <td>1.179999</td>\n",
              "      <td>-0.622350</td>\n",
              "      <td>0.466434</td>\n",
              "      <td>-0.254932</td>\n",
              "      <td>-1.056950</td>\n",
              "      <td>-0.120956</td>\n",
              "      <td>-0.307275</td>\n",
              "      <td>0.214762</td>\n",
              "      <td>-0.243913</td>\n",
              "      <td>-0.108631</td>\n",
              "      <td>-1.032610</td>\n",
              "      <td>0.034260</td>\n",
              "      <td>-1.075433</td>\n",
              "      <td>-0.312488</td>\n",
              "      <td>0.454586</td>\n",
              "      <td>1.553272</td>\n",
              "      <td>0.040101</td>\n",
              "      <td>0.071228</td>\n",
              "      <td>-1.609283</td>\n",
              "      <td>-0.600787</td>\n",
              "      <td>0.047470</td>\n",
              "      <td>0.149104</td>\n",
              "      <td>0.90</td>\n",
              "      <td>0</td>\n",
              "    </tr>\n",
              "  </tbody>\n",
              "</table>\n",
              "</div>"
            ],
            "text/plain": [
              "       Time        V1        V2        V3  ...       V27       V28  Amount  Class\n",
              "0   56730.0  1.533514 -0.158796 -0.502469  ... -0.017782 -0.005465    1.00      0\n",
              "1   40862.0 -0.762229  1.006803  1.517650  ...  0.381840  0.165352    1.29      0\n",
              "2  138803.0 -0.765822  0.330092 -0.979615  ...  0.426222 -0.346974  627.95      0\n",
              "3   39081.0  0.869820 -0.862217  0.770348  ... -0.069121  0.047255  204.00      0\n",
              "4  138358.0  0.175218  0.407749 -0.410562  ...  0.047470  0.149104    0.90      0\n",
              "\n",
              "[5 rows x 31 columns]"
            ]
          },
          "metadata": {
            "tags": []
          },
          "execution_count": 98
        }
      ]
    },
    {
      "cell_type": "markdown",
      "metadata": {
        "id": "bHPay5Y1JHOt",
        "colab_type": "text"
      },
      "source": [
        "## Visualize the data\n",
        "The following graphs shows - \n",
        "1. The dataset is unblanaced in terms of amounts (see histogram) and in terms of the total fraudulent vs non-fraudulent transactions\n",
        "2. The fraudulent transactions seems to be in small amounts cases. So if our model should not detect frauds on high amounts.\n"
      ]
    },
    {
      "cell_type": "code",
      "metadata": {
        "id": "9of5iabOX6py",
        "colab_type": "code",
        "colab": {
          "base_uri": "https://localhost:8080/",
          "height": 283
        },
        "outputId": "94b877f4-8170-45e1-b7df-bad9fa8db25e"
      },
      "source": [
        "sns.distplot(df['Amount'], bins=20, kde=False, rug=True);"
      ],
      "execution_count": 103,
      "outputs": [
        {
          "output_type": "display_data",
          "data": {
            "image/png": "[encoded data removed]",
            "text/plain": [
              "<Figure size 432x288 with 1 Axes>"
            ]
          },
          "metadata": {
            "tags": []
          }
        }
      ]
    },
    {
      "cell_type": "code",
      "metadata": {
        "id": "SF5OYyWLGkyf",
        "colab_type": "code",
        "outputId": "fbdd03be-78ef-4bf8-a845-2234924f4b5c",
        "colab": {
          "base_uri": "https://localhost:8080/",
          "height": 369
        }
      },
      "source": [
        "sns.relplot(x=\"Amount\", y=\"Class\", data=df, hue=\"Class\", style=\"Class\");"
      ],
      "execution_count": 94,
      "outputs": [
        {
          "output_type": "display_data",
          "data": {
            "image/png": "[encoded data removed]",
            "text/plain": [
              "<Figure size 422.375x360 with 1 Axes>"
            ]
          },
          "metadata": {
            "tags": []
          }
        }
      ]
    },
    {
      "cell_type": "markdown",
      "metadata": {
        "id": "n1xfWLPkVEUg",
        "colab_type": "text"
      },
      "source": [
        "## Preprocessing\n",
        "1. Split the data using train_test_split\n",
        "2. Normalize the data (training & testing)"
      ]
    },
    {
      "cell_type": "code",
      "metadata": {
        "id": "uMXkKX4pFzvr",
        "colab_type": "code",
        "colab": {}
      },
      "source": [
        "from sklearn import linear_model\n",
        "from sklearn.model_selection import train_test_split"
      ],
      "execution_count": 0,
      "outputs": []
    },
    {
      "cell_type": "code",
      "metadata": {
        "id": "lLzFVRG0KnXd",
        "colab_type": "code",
        "colab": {
          "base_uri": "https://localhost:8080/",
          "height": 35
        },
        "outputId": "81fc821c-40ca-4fe3-ede9-b628796e04d7"
      },
      "source": [
        "x = df.iloc[:,:-1]\n",
        "y = df['Class']\n",
        "X_train , X_test , y_tran , y_test = train_test_split(x,y, test_size=0.35)\n",
        "X_train = (X_train-X_train.mean()) / X_train.std()\n",
        "X_test = (X_test-X_test.mean()) / X_test.std()\n",
        "print(\"total tests:{0}, total trains:{1}\".format(len(X_test), len(y_train)))"
      ],
      "execution_count": 105,
      "outputs": [
        {
          "output_type": "stream",
          "text": [
            "total tests:99683, total trains:185124\n"
          ],
          "name": "stdout"
        }
      ]
    },
    {
      "cell_type": "markdown",
      "metadata": {
        "id": "vASer_nxao4J",
        "colab_type": "text"
      },
      "source": [
        "## Create a model\n",
        "Create and train (fit) a logistic regression model"
      ]
    },
    {
      "cell_type": "code",
      "metadata": {
        "id": "oaaoF6ENLZMa",
        "colab_type": "code",
        "colab": {
          "base_uri": "https://localhost:8080/",
          "height": 92
        },
        "outputId": "17902868-9c45-439d-9922-c9d5208933d2"
      },
      "source": [
        "logistic = linear_model.LogisticRegression(C=1e5)\n",
        "logistic.fit(X_train, y_train)\n",
        "print('Score:', logistic.score(X_test, y_test)) "
      ],
      "execution_count": 163,
      "outputs": [
        {
          "output_type": "stream",
          "text": [
            "/usr/local/lib/python3.6/dist-packages/sklearn/linear_model/logistic.py:432: FutureWarning: Default solver will be changed to 'lbfgs' in 0.22. Specify a solver to silence this warning.\n",
            "  FutureWarning)\n"
          ],
          "name": "stderr"
        },
        {
          "output_type": "stream",
          "text": [
            "Score: 0.9982845620617357\n"
          ],
          "name": "stdout"
        }
      ]
    },
    {
      "cell_type": "markdown",
      "metadata": {
        "id": "MVNcxPg_aysT",
        "colab_type": "text"
      },
      "source": [
        "## Make some predictions\n",
        "We can see the model score is pretty high. By printing the confustion matrix we can see that 171 true fraudulent transactions that were wrongly predicted"
      ]
    },
    {
      "cell_type": "code",
      "metadata": {
        "id": "WMBO3F4xbAA_",
        "colab_type": "code",
        "colab": {
          "base_uri": "https://localhost:8080/",
          "height": 54
        },
        "outputId": "36a3ac6c-3427-49f1-e93d-10ef24cb2ba0"
      },
      "source": [
        "y_pred = logistic.predict(X_test)\n",
        "from sklearn.metrics import confusion_matrix\n",
        "confusion_matrix(y_test, y_pred)"
      ],
      "execution_count": 164,
      "outputs": [
        {
          "output_type": "execute_result",
          "data": {
            "text/plain": [
              "array([[99512,     0],\n",
              "       [  171,     0]])"
            ]
          },
          "metadata": {
            "tags": []
          },
          "execution_count": 164
        }
      ]
    },
    {
      "cell_type": "code",
      "metadata": {
        "id": "7hQd6XH5c8ad",
        "colab_type": "code",
        "colab": {
          "base_uri": "https://localhost:8080/",
          "height": 35
        },
        "outputId": "5e5af8c4-fc99-4bd5-f0f2-fbaf95000cc8"
      },
      "source": [
        "wrong_pred_indices = [i for i, val in enumerate(y_test-y_pred) if val==1]\n",
        "print(\"for example in index {0}, true value was {1} while predicted value was {2}\".format(2,y_test.iloc[wrong_pred_indices[2]],y_pred[wrong_pred_indices[2]]))\n",
        "\n"
      ],
      "execution_count": 170,
      "outputs": [
        {
          "output_type": "stream",
          "text": [
            "for example in index 2, true value was 1 while predicted value was 0\n"
          ],
          "name": "stdout"
        }
      ]
    }
  ]
}